{
 "cells": [
  {
   "cell_type": "code",
   "execution_count": 1,
   "metadata": {},
   "outputs": [],
   "source": [
    "import pandas as pd\n",
    "import numpy as np\n",
    "import chart_studio.plotly as py\n",
    "import chart_studio.tools as tls"
   ]
  },
  {
   "cell_type": "code",
   "execution_count": 2,
   "metadata": {},
   "outputs": [],
   "source": [
    "tls.set_credentials_file(username = \"lidingl2\", api_key=\"C86jk1e5Dw6uLB1uXUwX\")"
   ]
  },
  {
   "cell_type": "code",
   "execution_count": 3,
   "metadata": {},
   "outputs": [],
   "source": [
    "df = pd.read_csv(\"fulldata.csv\")"
   ]
  },
  {
   "cell_type": "code",
   "execution_count": 4,
   "metadata": {},
   "outputs": [
    {
     "data": {
      "text/html": [
       "<div>\n",
       "<style scoped>\n",
       "    .dataframe tbody tr th:only-of-type {\n",
       "        vertical-align: middle;\n",
       "    }\n",
       "\n",
       "    .dataframe tbody tr th {\n",
       "        vertical-align: top;\n",
       "    }\n",
       "\n",
       "    .dataframe thead th {\n",
       "        text-align: right;\n",
       "    }\n",
       "</style>\n",
       "<table border=\"1\" class=\"dataframe\">\n",
       "  <thead>\n",
       "    <tr style=\"text-align: right;\">\n",
       "      <th></th>\n",
       "      <th>GEO.id</th>\n",
       "      <th>GEO.id2</th>\n",
       "      <th>GEO.display-label</th>\n",
       "      <th>NAICS.id</th>\n",
       "      <th>NAICS.display-label</th>\n",
       "      <th>RCPSZFE.id</th>\n",
       "      <th>RCPSZFE.display-label</th>\n",
       "      <th>ESTAB</th>\n",
       "    </tr>\n",
       "  </thead>\n",
       "  <tbody>\n",
       "    <tr>\n",
       "      <th>0</th>\n",
       "      <td>8610000US06001</td>\n",
       "      <td>6001</td>\n",
       "      <td>ZIP 06001 (Avon, CT)</td>\n",
       "      <td>44-45</td>\n",
       "      <td>Retail trade</td>\n",
       "      <td>123</td>\n",
       "      <td>Establishments operated entire year with sales...</td>\n",
       "      <td>4</td>\n",
       "    </tr>\n",
       "    <tr>\n",
       "      <th>1</th>\n",
       "      <td>8610000US06001</td>\n",
       "      <td>6001</td>\n",
       "      <td>ZIP 06001 (Avon, CT)</td>\n",
       "      <td>44-45</td>\n",
       "      <td>Retail trade</td>\n",
       "      <td>125</td>\n",
       "      <td>Establishments operated entire year with sales...</td>\n",
       "      <td>8</td>\n",
       "    </tr>\n",
       "    <tr>\n",
       "      <th>2</th>\n",
       "      <td>8610000US06001</td>\n",
       "      <td>6001</td>\n",
       "      <td>ZIP 06001 (Avon, CT)</td>\n",
       "      <td>44-45</td>\n",
       "      <td>Retail trade</td>\n",
       "      <td>131</td>\n",
       "      <td>Establishments operated entire year with sales...</td>\n",
       "      <td>20</td>\n",
       "    </tr>\n",
       "    <tr>\n",
       "      <th>3</th>\n",
       "      <td>8610000US06001</td>\n",
       "      <td>6001</td>\n",
       "      <td>ZIP 06001 (Avon, CT)</td>\n",
       "      <td>44-45</td>\n",
       "      <td>Retail trade</td>\n",
       "      <td>132</td>\n",
       "      <td>Establishments operated entire year with sales...</td>\n",
       "      <td>36</td>\n",
       "    </tr>\n",
       "    <tr>\n",
       "      <th>4</th>\n",
       "      <td>8610000US06001</td>\n",
       "      <td>6001</td>\n",
       "      <td>ZIP 06001 (Avon, CT)</td>\n",
       "      <td>44-45</td>\n",
       "      <td>Retail trade</td>\n",
       "      <td>998</td>\n",
       "      <td>Establishments not operated for the entire year</td>\n",
       "      <td>13</td>\n",
       "    </tr>\n",
       "  </tbody>\n",
       "</table>\n",
       "</div>"
      ],
      "text/plain": [
       "           GEO.id  GEO.id2     GEO.display-label NAICS.id NAICS.display-label  \\\n",
       "0  8610000US06001     6001  ZIP 06001 (Avon, CT)    44-45        Retail trade   \n",
       "1  8610000US06001     6001  ZIP 06001 (Avon, CT)    44-45        Retail trade   \n",
       "2  8610000US06001     6001  ZIP 06001 (Avon, CT)    44-45        Retail trade   \n",
       "3  8610000US06001     6001  ZIP 06001 (Avon, CT)    44-45        Retail trade   \n",
       "4  8610000US06001     6001  ZIP 06001 (Avon, CT)    44-45        Retail trade   \n",
       "\n",
       "   RCPSZFE.id                              RCPSZFE.display-label  ESTAB  \n",
       "0         123  Establishments operated entire year with sales...      4  \n",
       "1         125  Establishments operated entire year with sales...      8  \n",
       "2         131  Establishments operated entire year with sales...     20  \n",
       "3         132  Establishments operated entire year with sales...     36  \n",
       "4         998    Establishments not operated for the entire year     13  "
      ]
     },
     "execution_count": 4,
     "metadata": {},
     "output_type": "execute_result"
    }
   ],
   "source": [
    "df.head()"
   ]
  },
  {
   "cell_type": "code",
   "execution_count": 46,
   "metadata": {},
   "outputs": [],
   "source": [
    "zipcode_state = pd.read_csv(\"uszips.csv\")\n",
    "df2 = df.drop(df.index[0])\n",
    "\n",
    "df_merge = pd.merge(df2[\"GEO.id2\"],zipcode_state, left_on=\"GEO.id2\", right_on = \"zip\")\n",
    "df_merge = df_merge[[\"zip\",\"state_id\"]]\n",
    "df_count = df_merge.groupby([\"state_id\"], as_index=False ).count()\n",
    "df_count = df_count.rename(columns={\"zip\": \"count\"})\n"
   ]
  },
  {
   "cell_type": "code",
   "execution_count": null,
   "metadata": {},
   "outputs": [],
   "source": [
    "\n"
   ]
  },
  {
   "cell_type": "code",
   "execution_count": 50,
   "metadata": {},
   "outputs": [],
   "source": [
    "data = [dict(type=\"choropleth\", autocolorscale = False, locations = df_count[\"state_id\"], z = df_count[\"count\"], locationmode = \"USA-states\", colorscale = \"blues\",colorbar = dict(title = \"counts\") )]\n"
   ]
  },
  {
   "cell_type": "code",
   "execution_count": 51,
   "metadata": {},
   "outputs": [],
   "source": [
    "layout = dict(title = \"US map and counts\", geo = dict(scope='usa',projection = dict(type='albers usa'), showlakes = True, lakecolor = \"rgb(66,165,245)\", ),)\n"
   ]
  },
  {
   "cell_type": "code",
   "execution_count": 52,
   "metadata": {},
   "outputs": [
    {
     "data": {
      "text/html": [
       "\n",
       "        <iframe\n",
       "            width=\"100%\"\n",
       "            height=\"525px\"\n",
       "            src=\"https://plot.ly/~lidingl2/1.embed\"\n",
       "            frameborder=\"0\"\n",
       "            allowfullscreen\n",
       "        ></iframe>\n",
       "        "
      ],
      "text/plain": [
       "<IPython.lib.display.IFrame at 0x127755828>"
      ]
     },
     "execution_count": 52,
     "metadata": {},
     "output_type": "execute_result"
    }
   ],
   "source": [
    "fig = dict(data = data, layout = layout)\n",
    "py.iplot(fig, filename = 'd3-choropleth-map')"
   ]
  },
  {
   "cell_type": "code",
   "execution_count": 69,
   "metadata": {},
   "outputs": [],
   "source": [
    "## visualize data by zip code\n",
    "\n",
    "\n",
    "df_merge2 = pd.merge(df2[\"GEO.id2\"],zipcode_state, left_on=\"GEO.id2\", right_on = \"zip\")\n",
    "df_merge2 = df_merge2[[\"zip\",\"state_id\", \"county_fips\"]]\n",
    "df_merge2['county_fips'] = df_merge2['county_fips'] .apply(lambda x: str(x).zfill(5))"
   ]
  },
  {
   "cell_type": "code",
   "execution_count": 78,
   "metadata": {},
   "outputs": [
    {
     "ename": "PlotlyError",
     "evalue": "You have 150 LEVELS. Your number of colors in 'colorscale' must be at least the number of LEVELS: [1.7, 2.0, 2.1, 2.2, 2.3, 2.4, 2.5, 2.6, 2.7, 2.8, 2.9, 3.0, 3.1, 3.2, 3.3, 3.4, 3.5, 3.6, 3.7, 3.8]. If you are using 'binning_endpoints' then 'colorscale' must have at least len(binning_endpoints) + 2 colors",
     "output_type": "error",
     "traceback": [
      "\u001b[0;31m---------------------------------------------------------------------------\u001b[0m",
      "\u001b[0;31mPlotlyError\u001b[0m                               Traceback (most recent call last)",
      "\u001b[0;32m<ipython-input-78-3df6d3222ae6>\u001b[0m in \u001b[0;36m<module>\u001b[0;34m\u001b[0m\n\u001b[1;32m     14\u001b[0m     \u001b[0mshow_state_data\u001b[0m\u001b[0;34m=\u001b[0m\u001b[0;32mFalse\u001b[0m\u001b[0;34m,\u001b[0m\u001b[0;34m\u001b[0m\u001b[0;34m\u001b[0m\u001b[0m\n\u001b[1;32m     15\u001b[0m     \u001b[0mshow_hover\u001b[0m\u001b[0;34m=\u001b[0m\u001b[0;32mTrue\u001b[0m\u001b[0;34m,\u001b[0m\u001b[0;34m\u001b[0m\u001b[0;34m\u001b[0m\u001b[0m\n\u001b[0;32m---> 16\u001b[0;31m     \u001b[0masp\u001b[0m \u001b[0;34m=\u001b[0m \u001b[0;36m2.9\u001b[0m\u001b[0;34m\u001b[0m\u001b[0;34m\u001b[0m\u001b[0m\n\u001b[0m\u001b[1;32m     17\u001b[0m )\n\u001b[1;32m     18\u001b[0m \u001b[0mfig\u001b[0m\u001b[0;34m.\u001b[0m\u001b[0mshow\u001b[0m\u001b[0;34m(\u001b[0m\u001b[0;34m)\u001b[0m\u001b[0;34m\u001b[0m\u001b[0;34m\u001b[0m\u001b[0m\n",
      "\u001b[0;32m~/anaconda3/lib/python3.6/site-packages/plotly/figure_factory/_county_choropleth.py\u001b[0m in \u001b[0;36mcreate_choropleth\u001b[0;34m(fips, values, scope, binning_endpoints, colorscale, order, simplify_county, simplify_state, asp, show_hover, show_state_data, state_outline, county_outline, centroid_marker, round_legend_values, exponent_format, legend_title, **layout_options)\u001b[0m\n\u001b[1;32m    730\u001b[0m             \u001b[0;34m\"using 'binning_endpoints' then 'colorscale' must have at \"\u001b[0m\u001b[0;34m\u001b[0m\u001b[0;34m\u001b[0m\u001b[0m\n\u001b[1;32m    731\u001b[0m             \"least len(binning_endpoints) + 2 colors\".format(\n\u001b[0;32m--> 732\u001b[0;31m                 \u001b[0mlen\u001b[0m\u001b[0;34m(\u001b[0m\u001b[0mLEVELS\u001b[0m\u001b[0;34m)\u001b[0m\u001b[0;34m,\u001b[0m \u001b[0mmin\u001b[0m\u001b[0;34m(\u001b[0m\u001b[0mLEVELS\u001b[0m\u001b[0;34m,\u001b[0m \u001b[0mLEVELS\u001b[0m\u001b[0;34m[\u001b[0m\u001b[0;34m:\u001b[0m\u001b[0;36m20\u001b[0m\u001b[0;34m]\u001b[0m\u001b[0;34m)\u001b[0m\u001b[0;34m\u001b[0m\u001b[0;34m\u001b[0m\u001b[0m\n\u001b[0m\u001b[1;32m    733\u001b[0m             )\n\u001b[1;32m    734\u001b[0m         )\n",
      "\u001b[0;31mPlotlyError\u001b[0m: You have 150 LEVELS. Your number of colors in 'colorscale' must be at least the number of LEVELS: [1.7, 2.0, 2.1, 2.2, 2.3, 2.4, 2.5, 2.6, 2.7, 2.8, 2.9, 3.0, 3.1, 3.2, 3.3, 3.4, 3.5, 3.6, 3.7, 3.8]. If you are using 'binning_endpoints' then 'colorscale' must have at least len(binning_endpoints) + 2 colors"
     ]
    }
   ],
   "source": [
    "# df_count2 = df_merge2.groupby([\"county_fips\"], as_index=False ).count()\n",
    "# df_count2 = df_count2.rename(columns={\"zip\": \"count\"})\n",
    "\n",
    "\n",
    "# fips = df_count2['county_fips'].tolist()\n",
    "# values = df_count2['count'].tolist()\n",
    "\n",
    "colorscale = [\"#f7fbff\", \"#ebf3fb\", \"#deebf7\", \"#d2e3f3\", \"#c6dbef\", \"#b3d2e9\", \"#9ecae1\",\n",
    "    \"#85bcdb\", \"#6baed6\", \"#57a0ce\", \"#4292c6\", \"#3082be\", \"#2171b5\", \"#1361a9\",\n",
    "    \"#08519c\", \"#0b4083\", \"#08306b\"\n",
    "]\n",
    "fig = ff.create_choropleth(\n",
    "    fips=fips, values=values, colorscale=colorscale,\n",
    "    show_state_data=False,\n",
    "    show_hover=True,\n",
    "    asp = 2.9\n",
    ")\n",
    "fig.show()"
   ]
  },
  {
   "cell_type": "code",
   "execution_count": null,
   "metadata": {},
   "outputs": [],
   "source": []
  },
  {
   "cell_type": "code",
   "execution_count": null,
   "metadata": {},
   "outputs": [],
   "source": []
  },
  {
   "cell_type": "code",
   "execution_count": null,
   "metadata": {},
   "outputs": [],
   "source": []
  },
  {
   "cell_type": "code",
   "execution_count": null,
   "metadata": {},
   "outputs": [],
   "source": []
  },
  {
   "cell_type": "code",
   "execution_count": null,
   "metadata": {},
   "outputs": [],
   "source": []
  },
  {
   "cell_type": "code",
   "execution_count": null,
   "metadata": {},
   "outputs": [],
   "source": [
    "\n"
   ]
  },
  {
   "cell_type": "code",
   "execution_count": null,
   "metadata": {},
   "outputs": [],
   "source": []
  },
  {
   "cell_type": "code",
   "execution_count": null,
   "metadata": {},
   "outputs": [],
   "source": []
  },
  {
   "cell_type": "code",
   "execution_count": null,
   "metadata": {},
   "outputs": [],
   "source": []
  }
 ],
 "metadata": {
  "kernelspec": {
   "display_name": "Python 3",
   "language": "python",
   "name": "python3"
  },
  "language_info": {
   "codemirror_mode": {
    "name": "ipython",
    "version": 3
   },
   "file_extension": ".py",
   "mimetype": "text/x-python",
   "name": "python",
   "nbconvert_exporter": "python",
   "pygments_lexer": "ipython3",
   "version": "3.6.8"
  }
 },
 "nbformat": 4,
 "nbformat_minor": 2
}
